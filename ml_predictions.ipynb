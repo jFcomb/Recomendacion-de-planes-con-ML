{
 "cells": [
  {
   "cell_type": "markdown",
   "metadata": {},
   "source": [
    "# CONTENIDO\n",
    "\n",
    "* [Introducción](#intro)\n",
    "* [Descripción de datos](#descri)\n",
    "* [Entrenamientos](#ml)\n",
    "* [Modelo de árbol de decisión](#dt)\n",
    "* [Modelo de Bosque de decisión](#bd)\n",
    "* [Modelo de regresión logística](#rl)\n",
    "* [Conclusión Final](#cf)"
   ]
  },
  {
   "cell_type": "markdown",
   "metadata": {},
   "source": [
    "# Introducción<a id = 'intro'></a>\n"
   ]
  },
  {
   "cell_type": "markdown",
   "metadata": {},
   "source": [
    "La compañía móvil Megaline no está satisfecha al ver que muchos de sus clientes\n",
    "utilizan planes heredados. Quieren desarrollar un modelo que pueda analizar el\n",
    "comportamiento de los clientes y recomendar uno de los nuevos planes de Megaline:\n",
    "Smart o Ultra."
   ]
  },
  {
   "cell_type": "markdown",
   "metadata": {},
   "source": [
    "# Descripción de datos <a id = 'descri'></a>"
   ]
  },
  {
   "cell_type": "code",
   "execution_count": 78,
   "metadata": {},
   "outputs": [],
   "source": [
    "#Importación de librerías a utilizar\n",
    "import pandas as pd\n",
    "from sklearn.model_selection import train_test_split\n",
    "from sklearn.metrics import accuracy_score\n",
    "from sklearn.tree import DecisionTreeClassifier\n",
    "from sklearn.linear_model import LogisticRegression\n",
    "from sklearn.ensemble import RandomForestClassifier\n"
   ]
  },
  {
   "cell_type": "code",
   "execution_count": 46,
   "metadata": {},
   "outputs": [],
   "source": [
    "#Cargar el dataset a nuestro objero df\n",
    "df = pd.read_csv('/datasets/users_behavior_upd.csv')"
   ]
  },
  {
   "cell_type": "code",
   "execution_count": 47,
   "metadata": {
    "scrolled": true
   },
   "outputs": [
    {
     "name": "stdout",
     "output_type": "stream",
     "text": [
      "<class 'pandas.core.frame.DataFrame'>\n",
      "RangeIndex: 3214 entries, 0 to 3213\n",
      "Data columns (total 5 columns):\n",
      " #   Column       Non-Null Count  Dtype  \n",
      "---  ------       --------------  -----  \n",
      " 0   calls        3214 non-null   float64\n",
      " 1   minutes      3214 non-null   float64\n",
      " 2   messages     3214 non-null   float64\n",
      " 3   mb_used      3214 non-null   float64\n",
      " 4   is_ultimate  3214 non-null   int64  \n",
      "dtypes: float64(4), int64(1)\n",
      "memory usage: 125.7 KB\n"
     ]
    }
   ],
   "source": [
    "#Información general del dataset\n",
    "df.info()"
   ]
  },
  {
   "cell_type": "code",
   "execution_count": 48,
   "metadata": {},
   "outputs": [
    {
     "data": {
      "text/html": [
       "<div>\n",
       "<style scoped>\n",
       "    .dataframe tbody tr th:only-of-type {\n",
       "        vertical-align: middle;\n",
       "    }\n",
       "\n",
       "    .dataframe tbody tr th {\n",
       "        vertical-align: top;\n",
       "    }\n",
       "\n",
       "    .dataframe thead th {\n",
       "        text-align: right;\n",
       "    }\n",
       "</style>\n",
       "<table border=\"1\" class=\"dataframe\">\n",
       "  <thead>\n",
       "    <tr style=\"text-align: right;\">\n",
       "      <th></th>\n",
       "      <th>calls</th>\n",
       "      <th>minutes</th>\n",
       "      <th>messages</th>\n",
       "      <th>mb_used</th>\n",
       "      <th>is_ultimate</th>\n",
       "    </tr>\n",
       "  </thead>\n",
       "  <tbody>\n",
       "    <tr>\n",
       "      <th>0</th>\n",
       "      <td>40.0</td>\n",
       "      <td>311.90</td>\n",
       "      <td>83.0</td>\n",
       "      <td>19915.42</td>\n",
       "      <td>0</td>\n",
       "    </tr>\n",
       "    <tr>\n",
       "      <th>1</th>\n",
       "      <td>85.0</td>\n",
       "      <td>516.75</td>\n",
       "      <td>56.0</td>\n",
       "      <td>22696.96</td>\n",
       "      <td>0</td>\n",
       "    </tr>\n",
       "    <tr>\n",
       "      <th>2</th>\n",
       "      <td>77.0</td>\n",
       "      <td>467.66</td>\n",
       "      <td>86.0</td>\n",
       "      <td>21060.45</td>\n",
       "      <td>0</td>\n",
       "    </tr>\n",
       "    <tr>\n",
       "      <th>3</th>\n",
       "      <td>106.0</td>\n",
       "      <td>745.53</td>\n",
       "      <td>81.0</td>\n",
       "      <td>8437.39</td>\n",
       "      <td>1</td>\n",
       "    </tr>\n",
       "    <tr>\n",
       "      <th>4</th>\n",
       "      <td>66.0</td>\n",
       "      <td>418.74</td>\n",
       "      <td>1.0</td>\n",
       "      <td>14502.75</td>\n",
       "      <td>0</td>\n",
       "    </tr>\n",
       "    <tr>\n",
       "      <th>5</th>\n",
       "      <td>58.0</td>\n",
       "      <td>344.56</td>\n",
       "      <td>21.0</td>\n",
       "      <td>15823.37</td>\n",
       "      <td>0</td>\n",
       "    </tr>\n",
       "    <tr>\n",
       "      <th>6</th>\n",
       "      <td>57.0</td>\n",
       "      <td>431.64</td>\n",
       "      <td>20.0</td>\n",
       "      <td>3738.90</td>\n",
       "      <td>1</td>\n",
       "    </tr>\n",
       "    <tr>\n",
       "      <th>7</th>\n",
       "      <td>15.0</td>\n",
       "      <td>132.40</td>\n",
       "      <td>6.0</td>\n",
       "      <td>21911.60</td>\n",
       "      <td>0</td>\n",
       "    </tr>\n",
       "    <tr>\n",
       "      <th>8</th>\n",
       "      <td>7.0</td>\n",
       "      <td>43.39</td>\n",
       "      <td>3.0</td>\n",
       "      <td>2538.67</td>\n",
       "      <td>1</td>\n",
       "    </tr>\n",
       "    <tr>\n",
       "      <th>9</th>\n",
       "      <td>90.0</td>\n",
       "      <td>665.41</td>\n",
       "      <td>38.0</td>\n",
       "      <td>17358.61</td>\n",
       "      <td>0</td>\n",
       "    </tr>\n",
       "  </tbody>\n",
       "</table>\n",
       "</div>"
      ],
      "text/plain": [
       "   calls  minutes  messages   mb_used  is_ultimate\n",
       "0   40.0   311.90      83.0  19915.42            0\n",
       "1   85.0   516.75      56.0  22696.96            0\n",
       "2   77.0   467.66      86.0  21060.45            0\n",
       "3  106.0   745.53      81.0   8437.39            1\n",
       "4   66.0   418.74       1.0  14502.75            0\n",
       "5   58.0   344.56      21.0  15823.37            0\n",
       "6   57.0   431.64      20.0   3738.90            1\n",
       "7   15.0   132.40       6.0  21911.60            0\n",
       "8    7.0    43.39       3.0   2538.67            1\n",
       "9   90.0   665.41      38.0  17358.61            0"
      ]
     },
     "execution_count": 48,
     "metadata": {},
     "output_type": "execute_result"
    }
   ],
   "source": [
    "#Mostrar una muestra de nuestro data\n",
    "df.head(10)"
   ]
  },
  {
   "cell_type": "code",
   "execution_count": 49,
   "metadata": {},
   "outputs": [
    {
     "data": {
      "text/plain": [
       "0"
      ]
     },
     "execution_count": 49,
     "metadata": {},
     "output_type": "execute_result"
    }
   ],
   "source": [
    "df.duplicated().sum()"
   ]
  },
  {
   "cell_type": "code",
   "execution_count": 50,
   "metadata": {},
   "outputs": [
    {
     "data": {
      "text/plain": [
       "calls          0\n",
       "minutes        0\n",
       "messages       0\n",
       "mb_used        0\n",
       "is_ultimate    0\n",
       "dtype: int64"
      ]
     },
     "execution_count": 50,
     "metadata": {},
     "output_type": "execute_result"
    }
   ],
   "source": [
    "df.isna().sum()"
   ]
  },
  {
   "cell_type": "markdown",
   "metadata": {},
   "source": [
    "Nuestro dataset está conformado por 3214 filas y 5 columnas, es una dataset bastante limpio no se encuentran valores nulos, ni duplicados, la descripción de nuestras columnas es la siguiente: \n",
    "\n",
    "- `сalls`: Número de llamadas\n",
    "- `minutes`: Duración total de la llamada en minutos\n",
    "- `messages`: Número de mensajes de texto\n",
    "- `mb_used`: Tráfico de Internet utilizado en MB\n",
    "- `is_ultimate`: Plan para el mes actual (Ultimate - 1, Surf - 0)"
   ]
  },
  {
   "cell_type": "markdown",
   "metadata": {},
   "source": [
    "# Entrenamiento <a id = 'ml'></a>"
   ]
  },
  {
   "cell_type": "markdown",
   "metadata": {},
   "source": [
    "Dividiremos nuestro dataset en un conjunto de entrenamiento, uno de validación  y uno de prueba, primero definiremos nuestro objetivo y nuestras caracteristicas:\n",
    "\n",
    "- **target:** columna 'is_ultimate'\n",
    "- **features:** demás columnas\n",
    "\n",
    "Como no contamos con otro dataset de pruebas dividiremos el nuestro a proporción 3:1:1 (60%,20%,20%). Nuestro objetivo lo estamos tratando como un valor categórico ya que estamos definiendo si pertenece a un plan o a otro, por lo que aplicaremos los siguentes métodos:\n",
    "\n",
    "1. Árbol de decisión.\n",
    "2. Bosque aleatorio.\n",
    "3. Regresión logística."
   ]
  },
  {
   "cell_type": "code",
   "execution_count": 74,
   "metadata": {},
   "outputs": [],
   "source": [
    "# Adquiriendo objetivos y características\n",
    "target = df['is_ultimate']\n",
    "features = df.drop('is_ultimate', axis = 1)\n",
    "\n",
    "#Dividiendo el dataset en 80% (entrenamiento y validacion)y 20% de prueba\n",
    "x_features, features_test, x_target, target_test = train_test_split(features, target, test_size =.2, random_state = 12345)\n",
    "\n",
    "#Dividiendo el dataset en entrenamiento y validacion\n",
    "features_train,features_valid, target_train, target_valid = train_test_split(\n",
    "    x_features, \n",
    "    x_target, \n",
    "    test_size =.25, \n",
    "    random_state = 12345)"
   ]
  },
  {
   "cell_type": "code",
   "execution_count": 67,
   "metadata": {},
   "outputs": [
    {
     "name": "stdout",
     "output_type": "stream",
     "text": [
      "Porcentaje de features de entrenamiento 60.0%\n",
      "Porcentaje de features de validación 20.0%\n",
      "Porcentaje de features de pruebas 20.0%\n"
     ]
    }
   ],
   "source": [
    "#Comprobando porcentajes\n",
    "print(\"Porcentaje de features de entrenamiento\", '{:.1%}'.format(len(features_train)/len(features)))\n",
    "print(\"Porcentaje de features de validación\", '{:.1%}'.format(len(features_valid)/len(features)))\n",
    "print(\"Porcentaje de features de pruebas\", '{:.1%}'.format(len(features_test)/len(features)))"
   ]
  },
  {
   "cell_type": "markdown",
   "metadata": {},
   "source": [
    "# Módelo de árbol de decisión<a id = 'dt'></a>"
   ]
  },
  {
   "cell_type": "code",
   "execution_count": 68,
   "metadata": {},
   "outputs": [
    {
     "name": "stdout",
     "output_type": "stream",
     "text": [
      "max_depth = 1 : 0.7387247278382582\n",
      "max_depth = 2 : 0.7573872472783826\n",
      "max_depth = 3 : 0.7651632970451011\n",
      "max_depth = 4 : 0.7636080870917574\n",
      "max_depth = 5 : 0.7573872472783826\n",
      "max_depth = 6 : 0.7589424572317263\n",
      "max_depth = 7 : 0.7713841368584758\n",
      "max_depth = 8 : 0.7682737169517885\n",
      "max_depth = 9 : 0.7651632970451011\n",
      "max_depth = 10 : 0.7713841368584758\n",
      "Exactitud del mejor modelo: 0.7713841368584758\n"
     ]
    }
   ],
   "source": [
    "#Ciclo for para encontrar la mejor exctitud para un arbol de decisión\n",
    "best_model = None\n",
    "best_accuracy  = 0\n",
    "\n",
    "for depth in range(1,11):\n",
    "    tree_model = DecisionTreeClassifier(random_state = 123456, max_depth =depth)\n",
    "    tree_model.fit(features_train, target_train)\n",
    "    predictions = tree_model.predict(features_valid)\n",
    "    accuracy =  accuracy_score(target_valid,predictions)\n",
    "    if accuracy > best_accuracy:\n",
    "        best_model = tree_model\n",
    "        best_accuracy = accuracy\n",
    "    print('max_depth =', depth, ': ', end='')\n",
    "    print(accuracy)\n",
    "\n",
    "\n",
    "print(\"Exactitud del mejor modelo:\", best_accuracy)\n",
    "        "
   ]
  },
  {
   "cell_type": "code",
   "execution_count": 89,
   "metadata": {},
   "outputs": [
    {
     "name": "stdout",
     "output_type": "stream",
     "text": [
      "Exactitud con los datos de prueba: 0.6329704510108864\n"
     ]
    }
   ],
   "source": [
    "#Comprobando modelo con dataset de prueba\n",
    "\n",
    "tree_model = DecisionTreeClassifier(random_state = 123456, max_depth =7)\n",
    "tree_model.fit(features_train, target_train)\n",
    "predictions = tree_model.predict(features_test)\n",
    "accuracy_test =  accuracy_score(target_valid,predictions)\n",
    "print(\"Exactitud con los datos de prueba:\", accuracy_test)\n"
   ]
  },
  {
   "cell_type": "markdown",
   "metadata": {},
   "source": [
    "**Conclusión**\n",
    "\n",
    "Nuestro modelo creado por arboles decisiones nos da una exactitud máxima de 77.13% con una profundidad de 7 árboles, de ahí nuestra exactitud empieza a bajar y en la profundidad 10 tenemos la misma exactitud que con la profundidad de 7 árboles, m{as sin embargo al utiliza nuestros datos de prueba obtuvimos una exactituda de 63.29% bajando 10%"
   ]
  },
  {
   "cell_type": "markdown",
   "metadata": {},
   "source": [
    "# Módelo de bosque aleatorio <a id = 'ba'></a>"
   ]
  },
  {
   "cell_type": "code",
   "execution_count": 91,
   "metadata": {},
   "outputs": [
    {
     "name": "stdout",
     "output_type": "stream",
     "text": [
      "max_depth = 1 : 0.7045101088646968\n",
      "max_depth = 2 : 0.744945567651633\n",
      "max_depth = 3 : 0.7433903576982893\n",
      "max_depth = 4 : 0.7744945567651633\n",
      "max_depth = 5 : 0.7807153965785381\n",
      "max_depth = 6 : 0.7962674961119751\n",
      "max_depth = 7 : 0.7807153965785381\n",
      "max_depth = 8 : 0.7838258164852255\n",
      "max_depth = 9 : 0.7807153965785381\n",
      "max_depth = 10 : 0.7869362363919129\n",
      "Exactitud del mejor modelo: 0.7962674961119751\n"
     ]
    }
   ],
   "source": [
    "#Ciclo for para encontrar la mejor exctitud para un bosque aleatorio\n",
    "best_est = 0\n",
    "best_score  = 0\n",
    "\n",
    "for est in range(1,11):\n",
    "    forest_model =  RandomForestClassifier(random_state = 123456, n_estimators = est)\n",
    "    forest_model.fit(features_train, target_train)\n",
    "    score =  forest_model.score(features_valid,target_valid)\n",
    "    if score > best_score:\n",
    "        best_est = est\n",
    "        best_score= score\n",
    "    print('max_depth =', est, ': ', end='')\n",
    "    print(score)\n",
    "\n",
    "\n",
    "print(\"Exactitud del mejor modelo:\", best_score)\n"
   ]
  },
  {
   "cell_type": "code",
   "execution_count": 94,
   "metadata": {},
   "outputs": [
    {
     "name": "stdout",
     "output_type": "stream",
     "text": [
      "Exactitud con los datos de prueba: 0.7791601866251944\n"
     ]
    }
   ],
   "source": [
    "#Comprobando modelo con dataset de prueba\n",
    "\n",
    "forest_model = DecisionTreeClassifier(random_state = 123456, max_depth =6)\n",
    "forest_model.fit(features_train, target_train)\n",
    "score_test = forest_model.score(features_test,target_test)\n",
    "print(\"Exactitud con los datos de prueba:\", score_test)"
   ]
  },
  {
   "cell_type": "markdown",
   "metadata": {},
   "source": [
    "**Conclusión**\n",
    "\n",
    "Podemos observar como tenemos ligeramente mejores resultado con este modelo, nuestra exactitud mejoró a un 79.62% y a diferencia del árbol de decisión, al hacer al utilizar nuestros datos de prueba estos están en casi 78%"
   ]
  },
  {
   "cell_type": "markdown",
   "metadata": {},
   "source": [
    "# Modelo de regresión logística<a id= 'rl'></a>"
   ]
  },
  {
   "cell_type": "code",
   "execution_count": 96,
   "metadata": {},
   "outputs": [
    {
     "name": "stdout",
     "output_type": "stream",
     "text": [
      "Exatitud de modelo de regresión logística: 0.6967340590979783\n"
     ]
    }
   ],
   "source": [
    "#Verificación de score con una regresión logística\n",
    "rl_model = LogisticRegression(random_state=1234, solver='liblinear')\n",
    "rl_model.fit(features_train, target_train)\n",
    "\n",
    "rl_score = rl_model.score(features_valid,target_valid)\n",
    "print(\"Exatitud de modelo de regresión logística:\", rl_score )\n"
   ]
  },
  {
   "cell_type": "code",
   "execution_count": 98,
   "metadata": {},
   "outputs": [
    {
     "name": "stdout",
     "output_type": "stream",
     "text": [
      "Exatitud de modelo de regresión logística: 0.702954898911353\n"
     ]
    }
   ],
   "source": [
    "#Comprobando exactitud del dataset de prueba\n",
    "\n",
    "rl_score_test = rl_model.score(features_test,target_test)\n",
    "print(\"Exatitud de modelo de regresión logística:\", rl_score_test )"
   ]
  },
  {
   "cell_type": "markdown",
   "metadata": {},
   "source": [
    "**Conclusión**\n",
    "\n",
    "Este método nos dió el resultado más bajo con un 69%, al ejecutarlo con nuestro datos de prueba aumentó un poco pero sin revasar a nuestro metodo de bosque aleatorio"
   ]
  },
  {
   "cell_type": "markdown",
   "metadata": {},
   "source": [
    "# Conclusión final<a id= 'cf'></a>"
   ]
  },
  {
   "cell_type": "markdown",
   "metadata": {},
   "source": [
    "La tabla la cual nos fue proporcionada ya había pasado por un proceso de preprocesamiento por lo que nuestros datos ya no contaban con valores nulos y los tipos de datos estaban acorde a la información.\n",
    "\n",
    "Aplicamos tres modelos de entrenamiento para nuestro conjunto de datos quedando en este orden de precisión en considerando la exactitud de nuestro conjunto de pruebas:\n",
    "\n",
    "1. Método de Bosque aleatorio\n",
    "2. Regresión logística\n",
    "3. Árbol de decisión\n",
    "\n",
    "Con el método de bosque aleatorio obtuvimos una precición del 79% para nuestros datos de entrenamiento y un 77% para nuestros datos de prueba."
   ]
  }
 ],
 "metadata": {
  "kernelspec": {
   "display_name": "Python 3 (ipykernel)",
   "language": "python",
   "name": "python3"
  },
  "language_info": {
   "codemirror_mode": {
    "name": "ipython",
    "version": 3
   },
   "file_extension": ".py",
   "mimetype": "text/x-python",
   "name": "python",
   "nbconvert_exporter": "python",
   "pygments_lexer": "ipython3",
   "version": "3.9.19"
  },
  "toc": {
   "base_numbering": 1,
   "nav_menu": {},
   "number_sections": true,
   "sideBar": true,
   "skip_h1_title": true,
   "title_cell": "Table of Contents",
   "title_sidebar": "Contents",
   "toc_cell": false,
   "toc_position": {},
   "toc_section_display": true,
   "toc_window_display": false
  }
 },
 "nbformat": 4,
 "nbformat_minor": 2
}
